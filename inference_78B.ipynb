{
  "cells": [
    {
      "cell_type": "markdown",
      "id": "c6fecd0e",
      "metadata": {
        "id": "c6fecd0e"
      },
      "source": [
        "## Setup"
      ]
    },
    {
      "cell_type": "code",
      "execution_count": 1,
      "id": "7e195b9e",
      "metadata": {
        "colab": {
          "base_uri": "https://localhost:8080/"
        },
        "id": "7e195b9e",
        "outputId": "59fa2133-c594-4879-f04e-90a6afcfe35a"
      },
      "outputs": [],
      "source": [
        "# # Make a directory for pretrained models\n",
        "# !mkdir -p pretrained\n",
        "# %cd pretrained\n",
        "\n",
        "# # Download the model from Hugging Face into the directory\n",
        "# !huggingface-cli download --resume-download \\\n",
        "#   --local-dir-use-symlinks False \\\n",
        "#   --local-dir InternVL3-78B \\\n",
        "#   OpenGVLab/InternVL3-78B\n",
        "\n",
        "\n",
        "# # Install the packages\n",
        "# %pip install -r '/content/drive/MyDrive/toy_ds/requirements.txt'\n",
        "\n",
        "# # 2️⃣ Install bitsandbytes (GPU-quant):\n",
        "# %pip install bitsandbytes==0.46.0\n",
        "\n",
        "# # 3️⃣ Install FlashAttention from its prebuilt wheel to skip the slow build\n",
        "# %pip install flash-attn==2.8.0.post2 --no-build-isolation"
      ]
    },
    {
      "cell_type": "code",
      "execution_count": 2,
      "id": "Zvm8XSQGZOb2",
      "metadata": {
        "colab": {
          "base_uri": "https://localhost:8080/"
        },
        "id": "Zvm8XSQGZOb2",
        "outputId": "5df36a7f-5982-4a6a-dc7e-e304c01a08fc"
      },
      "outputs": [
        {
          "ename": "ModuleNotFoundError",
          "evalue": "No module named 'google.colab'",
          "output_type": "error",
          "traceback": [
            "\u001b[0;31m---------------------------------------------------------------------------\u001b[0m",
            "\u001b[0;31mModuleNotFoundError\u001b[0m                       Traceback (most recent call last)",
            "Cell \u001b[0;32mIn[2], line 2\u001b[0m\n\u001b[1;32m      1\u001b[0m \u001b[38;5;66;03m# Mount Google Drive\u001b[39;00m\n\u001b[0;32m----> 2\u001b[0m \u001b[38;5;28;01mfrom\u001b[39;00m\u001b[38;5;250m \u001b[39m\u001b[38;5;21;01mgoogle\u001b[39;00m\u001b[38;5;21;01m.\u001b[39;00m\u001b[38;5;21;01mcolab\u001b[39;00m\u001b[38;5;250m \u001b[39m\u001b[38;5;28;01mimport\u001b[39;00m drive\n\u001b[1;32m      3\u001b[0m drive\u001b[38;5;241m.\u001b[39mmount(\u001b[38;5;124m'\u001b[39m\u001b[38;5;124m/content/drive\u001b[39m\u001b[38;5;124m'\u001b[39m, force_remount\u001b[38;5;241m=\u001b[39m\u001b[38;5;28;01mTrue\u001b[39;00m)\n\u001b[1;32m      5\u001b[0m toy_ds \u001b[38;5;241m=\u001b[39m \u001b[38;5;124m'\u001b[39m\u001b[38;5;124m/content/drive/My Drive/datasets/InternVL/toy_ds\u001b[39m\u001b[38;5;124m'\u001b[39m\n",
            "\u001b[0;31mModuleNotFoundError\u001b[0m: No module named 'google.colab'"
          ]
        }
      ],
      "source": [
        "# Mount Google Drive\n",
        "from google.colab import drive\n",
        "drive.mount('/content/drive', force_remount=True)\n",
        "\n",
        "toy_ds = '/content/drive/My Drive/datasets/InternVL/toy_ds'\n",
        "MODEL_PATH = '/content/My Drive/InterVL/InternVL3-78B'"
      ]
    },
    {
      "cell_type": "code",
      "execution_count": null,
      "id": "a9cd8cb8",
      "metadata": {},
      "outputs": [
        {
          "name": "stdout",
          "output_type": "stream",
          "text": [
            "Number of GPUs available: 2\n"
          ]
        }
      ],
      "source": [
        "import torch\n",
        "\n",
        "num_gpus = torch.cuda.device_count()\n",
        "print(f\"Number of GPUs available: {num_gpus}\")"
      ]
    },
    {
      "cell_type": "markdown",
      "id": "241c4d49",
      "metadata": {
        "id": "241c4d49"
      },
      "source": [
        "## Video"
      ]
    },
    {
      "cell_type": "code",
      "execution_count": null,
      "id": "283f33fc",
      "metadata": {
        "colab": {
          "base_uri": "https://localhost:8080/",
          "height": 597
        },
        "id": "283f33fc",
        "outputId": "5bc56957-fda5-4d86-d582-1168e2461c4f"
      },
      "outputs": [
        {
          "name": "stderr",
          "output_type": "stream",
          "text": [
            "Loading checkpoint shards: 100%|██████████| 16/16 [00:01<00:00, 10.39it/s]\n",
            "Special tokens have been added in the vocabulary, make sure the associated word embeddings are fine-tuned or trained.\n",
            "[12:54:19] /github/workspace/src/video/video_reader.cc:83: ERROR opening: /content/drive/MyDrive/toy_ds/videos/TNS_0169_V.mp4, No such file or directory\n"
          ]
        },
        {
          "ename": "RuntimeError",
          "evalue": "Error reading /content/drive/MyDrive/toy_ds/videos/TNS_0169_V.mp4...",
          "output_type": "error",
          "traceback": [
            "\u001b[0;31m---------------------------------------------------------------------------\u001b[0m",
            "\u001b[0;31mRuntimeError\u001b[0m                              Traceback (most recent call last)",
            "Cell \u001b[0;32mIn[2], line 118\u001b[0m\n\u001b[1;32m    116\u001b[0m \u001b[38;5;66;03m# ─── Entry ──────────────────────────────────────────────────────\u001b[39;00m\n\u001b[1;32m    117\u001b[0m \u001b[38;5;28;01mif\u001b[39;00m \u001b[38;5;18m__name__\u001b[39m \u001b[38;5;241m==\u001b[39m \u001b[38;5;124m\"\u001b[39m\u001b[38;5;124m__main__\u001b[39m\u001b[38;5;124m\"\u001b[39m:\n\u001b[0;32m--> 118\u001b[0m     \u001b[43minfer\u001b[49m\u001b[43m(\u001b[49m\u001b[38;5;124;43m\"\u001b[39;49m\u001b[38;5;124;43m/content/drive/MyDrive/toy_ds/videos/TNS_0169_V.mp4\u001b[39;49m\u001b[38;5;124;43m\"\u001b[39;49m\u001b[43m)\u001b[49m\n",
            "Cell \u001b[0;32mIn[2], line 101\u001b[0m, in \u001b[0;36minfer\u001b[0;34m(video_path)\u001b[0m\n\u001b[1;32m    100\u001b[0m \u001b[38;5;28;01mdef\u001b[39;00m\u001b[38;5;250m \u001b[39m\u001b[38;5;21minfer\u001b[39m(video_path):\n\u001b[0;32m--> 101\u001b[0m     video_tensor \u001b[38;5;241m=\u001b[39m \u001b[43mload_video\u001b[49m\u001b[43m(\u001b[49m\u001b[43mvideo_path\u001b[49m\u001b[43m,\u001b[49m\u001b[43m \u001b[49m\u001b[43mNUM_FRAMES\u001b[49m\u001b[43m)\u001b[49m\u001b[38;5;241m.\u001b[39mto(torch\u001b[38;5;241m.\u001b[39mbfloat16)\u001b[38;5;241m.\u001b[39mcuda()\n\u001b[1;32m    102\u001b[0m     prompt \u001b[38;5;241m=\u001b[39m \u001b[38;5;124m'\u001b[39m\u001b[38;5;124m'\u001b[39m\u001b[38;5;241m.\u001b[39mjoin([\u001b[38;5;124mf\u001b[39m\u001b[38;5;124m'\u001b[39m\u001b[38;5;124mFrame\u001b[39m\u001b[38;5;132;01m{\u001b[39;00mi\u001b[38;5;241m+\u001b[39m\u001b[38;5;241m1\u001b[39m\u001b[38;5;132;01m}\u001b[39;00m\u001b[38;5;124m: <image>\u001b[39m\u001b[38;5;130;01m\\n\u001b[39;00m\u001b[38;5;124m'\u001b[39m \u001b[38;5;28;01mfor\u001b[39;00m i \u001b[38;5;129;01min\u001b[39;00m \u001b[38;5;28mrange\u001b[39m(NUM_FRAMES)])\n\u001b[1;32m    103\u001b[0m     prompt \u001b[38;5;241m+\u001b[39m\u001b[38;5;241m=\u001b[39m prompt_string\n",
            "Cell \u001b[0;32mIn[2], line 93\u001b[0m, in \u001b[0;36mload_video\u001b[0;34m(video_path, num_frames)\u001b[0m\n\u001b[1;32m     92\u001b[0m \u001b[38;5;28;01mdef\u001b[39;00m\u001b[38;5;250m \u001b[39m\u001b[38;5;21mload_video\u001b[39m(video_path, num_frames):\n\u001b[0;32m---> 93\u001b[0m     vr \u001b[38;5;241m=\u001b[39m \u001b[43mVideoReader\u001b[49m\u001b[43m(\u001b[49m\u001b[43mvideo_path\u001b[49m\u001b[43m,\u001b[49m\u001b[43m \u001b[49m\u001b[43mctx\u001b[49m\u001b[38;5;241;43m=\u001b[39;49m\u001b[43mcpu\u001b[49m\u001b[43m(\u001b[49m\u001b[38;5;241;43m0\u001b[39;49m\u001b[43m)\u001b[49m\u001b[43m)\u001b[49m\n\u001b[1;32m     94\u001b[0m     transform \u001b[38;5;241m=\u001b[39m build_transform()\n\u001b[1;32m     95\u001b[0m     indices \u001b[38;5;241m=\u001b[39m get_frame_indices(num_frames, \u001b[38;5;28mlen\u001b[39m(vr))\n",
            "File \u001b[0;32m~/.conda/envs/videoqa/lib/python3.10/site-packages/decord/video_reader.py:57\u001b[0m, in \u001b[0;36mVideoReader.__init__\u001b[0;34m(self, uri, ctx, width, height, num_threads, fault_tol)\u001b[0m\n\u001b[1;32m     54\u001b[0m     \u001b[38;5;28mself\u001b[39m\u001b[38;5;241m.\u001b[39m_handle \u001b[38;5;241m=\u001b[39m _CAPI_VideoReaderGetVideoReader(\n\u001b[1;32m     55\u001b[0m         uri, ctx\u001b[38;5;241m.\u001b[39mdevice_type, ctx\u001b[38;5;241m.\u001b[39mdevice_id, width, height, num_threads, \u001b[38;5;241m0\u001b[39m, fault_tol)\n\u001b[1;32m     56\u001b[0m \u001b[38;5;28;01mif\u001b[39;00m \u001b[38;5;28mself\u001b[39m\u001b[38;5;241m.\u001b[39m_handle \u001b[38;5;129;01mis\u001b[39;00m \u001b[38;5;28;01mNone\u001b[39;00m:\n\u001b[0;32m---> 57\u001b[0m     \u001b[38;5;28;01mraise\u001b[39;00m \u001b[38;5;167;01mRuntimeError\u001b[39;00m(\u001b[38;5;124m\"\u001b[39m\u001b[38;5;124mError reading \u001b[39m\u001b[38;5;124m\"\u001b[39m \u001b[38;5;241m+\u001b[39m uri \u001b[38;5;241m+\u001b[39m \u001b[38;5;124m\"\u001b[39m\u001b[38;5;124m...\u001b[39m\u001b[38;5;124m\"\u001b[39m)\n\u001b[1;32m     58\u001b[0m \u001b[38;5;28mself\u001b[39m\u001b[38;5;241m.\u001b[39m_num_frame \u001b[38;5;241m=\u001b[39m _CAPI_VideoReaderGetFrameCount(\u001b[38;5;28mself\u001b[39m\u001b[38;5;241m.\u001b[39m_handle)\n\u001b[1;32m     59\u001b[0m \u001b[38;5;28;01massert\u001b[39;00m \u001b[38;5;28mself\u001b[39m\u001b[38;5;241m.\u001b[39m_num_frame \u001b[38;5;241m>\u001b[39m \u001b[38;5;241m0\u001b[39m, \u001b[38;5;124m\"\u001b[39m\u001b[38;5;124mInvalid frame count: \u001b[39m\u001b[38;5;132;01m{}\u001b[39;00m\u001b[38;5;124m\"\u001b[39m\u001b[38;5;241m.\u001b[39mformat(\u001b[38;5;28mself\u001b[39m\u001b[38;5;241m.\u001b[39m_num_frame)\n",
            "\u001b[0;31mRuntimeError\u001b[0m: Error reading /content/drive/MyDrive/toy_ds/videos/TNS_0169_V.mp4..."
          ]
        }
      ],
      "source": [
        "import os\n",
        "import math\n",
        "import torch\n",
        "import numpy as np\n",
        "import torchvision.transforms as T\n",
        "from decord import VideoReader, cpu\n",
        "from PIL import Image\n",
        "from torchvision.transforms.functional import InterpolationMode\n",
        "from transformers import AutoModel, AutoTokenizer, AutoConfig\n",
        "\n",
        "# ─── Prompt ─────────────────────────────────────────────────\n",
        "prompt_string = \"\"\"\n",
        "Please write one detailed but concise paragraph describing the following, based on the video frames or images above:\n",
        "- The overall scene and weather conditions (e.g., rain, puddles).\n",
        "- Any visible weapons or use of force:\n",
        "  • Guns (how many and where)\n",
        "  • Non-lethal force (e.g., hitting with fists, stones, or sticks)\n",
        "- Vehicles in the scene:\n",
        "  • Presence of military vehicles (specify type)\n",
        "  • License plates or markings (quote exact text)\n",
        "- Human activity:\n",
        "  • Actions of uniformed personnel (include uniform colors)\n",
        "  • Actions of protestors\n",
        "  • Whether anyone appears to be injured, hurt, or lying on the ground\n",
        "\"\"\"\n",
        "# ─── Model Setup 78B 8 bit quant ─────────────────────────────────────────────────\n",
        "MODEL_PATH = \"pretrained/InternVL3-38B\"\n",
        "model = AutoModel.from_pretrained(\n",
        "    MODEL_PATH,\n",
        "    torch_dtype=torch.bfloat16,\n",
        "    #load_in_4bit=True,\n",
        "    low_cpu_mem_usage=True,\n",
        "    use_flash_attn=True,\n",
        "    trust_remote_code=True).eval()\n",
        "tokenizer = AutoTokenizer.from_pretrained(MODEL_PATH, trust_remote_code=True)\n",
        "\n",
        "# ─── Constants ───────────────────────────────────────────────────\n",
        "INPUT_SIZE = 448\n",
        "NUM_FRAMES = 32\n",
        "GEN_CONFIG = dict(max_new_tokens=1024, do_sample=True)\n",
        "MEAN = (0.485, 0.456, 0.406)\n",
        "STD = (0.229, 0.224, 0.225)\n",
        "\n",
        "# ─── Split Model Across GPUs ──────────────────────────────────────────────\n",
        "def split_model(model_name):\n",
        "    device_map = {}\n",
        "    world_size = torch.cuda.device_count()\n",
        "    config = AutoConfig.from_pretrained(model_name, trust_remote_code=True)\n",
        "    num_layers = config.llm_config.num_hidden_layers\n",
        "\n",
        "    # Distribute layers evenly, but give half of GPU0 to the vision part\n",
        "    num_layers_per_gpu = math.ceil(num_layers / (world_size - 0.5))\n",
        "    num_layers_per_gpu = [num_layers_per_gpu] * world_size\n",
        "    num_layers_per_gpu[0] = math.ceil(num_layers_per_gpu[0] * 0.5)\n",
        "\n",
        "    layer_cnt = 0\n",
        "    for gpu_idx, count in enumerate(num_layers_per_gpu):\n",
        "        for _ in range(count):\n",
        "            device_map[f'language_model.model.layers.{layer_cnt}'] = gpu_idx\n",
        "            layer_cnt += 1\n",
        "\n",
        "    # Pin all vision & shared embeddings to GPU0\n",
        "    vision_keys = [\n",
        "        'vision_model',\n",
        "        'mlp1',\n",
        "        'language_model.model.tok_embeddings',\n",
        "        'language_model.model.embed_tokens',\n",
        "        'language_model.output',\n",
        "        'language_model.model.norm',\n",
        "        'language_model.model.rotary_emb',\n",
        "        'language_model.lm_head',\n",
        "        f'language_model.model.layers.{num_layers - 1}'\n",
        "    ]\n",
        "    for key in vision_keys:\n",
        "        device_map[key] = 0\n",
        "\n",
        "    return device_map\n",
        "\n",
        "# ─── Transforms ─────────────────────────────────────────────────\n",
        "def build_transform():\n",
        "    return T.Compose([\n",
        "        T.Lambda(lambda img: img.convert('RGB')),\n",
        "        T.Resize((INPUT_SIZE, INPUT_SIZE), interpolation=InterpolationMode.BICUBIC),\n",
        "        T.ToTensor(),\n",
        "        T.Normalize(mean=MEAN, std=STD)\n",
        "    ])\n",
        "\n",
        "# ─── Load and Preprocess Video ──────────────────────────────────\n",
        "def get_frame_indices(num_frames, total):\n",
        "    return np.linspace(0, total - 1, num_frames, dtype=int)\n",
        "\n",
        "def load_video(video_path, num_frames):\n",
        "    vr = VideoReader(video_path, ctx=cpu(0))\n",
        "    transform = build_transform()\n",
        "    indices = get_frame_indices(num_frames, len(vr))\n",
        "    pixel_values = [transform(Image.fromarray(vr[i].asnumpy())) for i in indices]\n",
        "    return torch.stack(pixel_values)  # [num_frames, 3, H, W]\n",
        "\n",
        "# ─── Inference ──────────────────────────────────────────────────\n",
        "def infer(video_path):\n",
        "    video_tensor = load_video(video_path, NUM_FRAMES).to(torch.bfloat16).cuda()\n",
        "    prompt = ''.join([f'Frame{i+1}: <image>\\n' for i in range(NUM_FRAMES)])\n",
        "    prompt += prompt_string\n",
        "\n",
        "    response, _ = model.chat(\n",
        "        tokenizer,\n",
        "        video_tensor,\n",
        "        prompt,\n",
        "        GEN_CONFIG,\n",
        "        history=None,\n",
        "        return_history=True\n",
        "    )\n",
        "    print(\"User:\", prompt)\n",
        "    print(\"Assistant:\", response)\n",
        "\n",
        "# ─── Entry ──────────────────────────────────────────────────────\n",
        "if __name__ == \"__main__\":\n",
        "    infer(\"toy_ds/videos/._TNS_0169_V.mp4\")"
      ]
    },
    {
      "cell_type": "markdown",
      "id": "9a1aae66",
      "metadata": {
        "id": "9a1aae66"
      },
      "source": [
        "## Image"
      ]
    },
    {
      "cell_type": "code",
      "execution_count": null,
      "id": "620df763",
      "metadata": {
        "id": "620df763"
      },
      "outputs": [],
      "source": [
        "import math\n",
        "import torch\n",
        "import torchvision.transforms as T\n",
        "from PIL import Image\n",
        "from torchvision.transforms.functional import InterpolationMode\n",
        "from transformers import AutoModel, AutoTokenizer, AutoConfig\n",
        "\n",
        "# ─── Prompt ─────────────────────────────────────────────────\n",
        "prompt_string = \"Provide a detailed description of each image. Describe the foreground and background separately. Mention any people, objects, and actions clearly. What are the people doing? What expressions or activities are visible? What is the setting or context? Is there violence happening?\"\n",
        "\n",
        "# ─── Config ───────────────────────────────────────────────────────────────\n",
        "MODEL_PATH = \"./pretrained/InternVL3-78B\"\n",
        "INPUT_SIZE   = 448\n",
        "MAX_PATCHES  = 12\n",
        "GEN_CONFIG   = dict(max_new_tokens=1024, do_sample=True)\n",
        "IMAGENET_MEAN = (0.485, 0.456, 0.406)\n",
        "IMAGENET_STD  = (0.229, 0.224, 0.225)\n",
        "\n",
        "# ─── Split Model Across GPUs ──────────────────────────────────────────────\n",
        "def split_model(model_name):\n",
        "    device_map = {}\n",
        "    world_size = torch.cuda.device_count()\n",
        "    config = AutoConfig.from_pretrained(model_name, trust_remote_code=True)\n",
        "    num_layers = config.llm_config.num_hidden_layers\n",
        "\n",
        "    # Distribute layers evenly, but give half of GPU0 to the vision part\n",
        "    num_layers_per_gpu = math.ceil(num_layers / (world_size - 0.5))\n",
        "    num_layers_per_gpu = [num_layers_per_gpu] * world_size\n",
        "    num_layers_per_gpu[0] = math.ceil(num_layers_per_gpu[0] * 0.5)\n",
        "\n",
        "    layer_cnt = 0\n",
        "    for gpu_idx, count in enumerate(num_layers_per_gpu):\n",
        "        for _ in range(count):\n",
        "            device_map[f'language_model.model.layers.{layer_cnt}'] = gpu_idx\n",
        "            layer_cnt += 1\n",
        "\n",
        "    # Pin all vision & shared embeddings to GPU0\n",
        "    vision_keys = [\n",
        "        'vision_model',\n",
        "        'mlp1',\n",
        "        'language_model.model.tok_embeddings',\n",
        "        'language_model.model.embed_tokens',\n",
        "        'language_model.output',\n",
        "        'language_model.model.norm',\n",
        "        'language_model.model.rotary_emb',\n",
        "        'language_model.lm_head',\n",
        "        f'language_model.model.layers.{num_layers - 1}'\n",
        "    ]\n",
        "    for key in vision_keys:\n",
        "        device_map[key] = 0\n",
        "\n",
        "    return device_map\n",
        "\n",
        "# ─── Image Preprocessing ─────────────────────────────────────────────────\n",
        "def build_transform():\n",
        "    return T.Compose([\n",
        "        T.Lambda(lambda img: img.convert('RGB') if img.mode != 'RGB' else img),\n",
        "        T.Resize((INPUT_SIZE, INPUT_SIZE), interpolation=InterpolationMode.BICUBIC),\n",
        "        T.ToTensor(),\n",
        "        T.Normalize(mean=IMAGENET_MEAN, std=IMAGENET_STD),\n",
        "    ])\n",
        "\n",
        "def dynamic_preprocess(image, image_size=448, max_num=12):\n",
        "    orig_w, orig_h = image.size\n",
        "    aspect = orig_w / orig_h\n",
        "\n",
        "    # find best grid (i × j) closest to aspect, with i*j ≤ max_num\n",
        "    best, best_diff = (1,1), float('inf')\n",
        "    for i in range(1, max_num+1):\n",
        "        for j in range(1, max_num+1):\n",
        "            if i*j > max_num: continue\n",
        "            diff = abs(aspect - (i/j))\n",
        "            if diff < best_diff:\n",
        "                best, best_diff = (i,j), diff\n",
        "\n",
        "    gw, gh = best\n",
        "    new_w, new_h = image_size * gw, image_size * gh\n",
        "    image = image.resize((new_w, new_h))\n",
        "\n",
        "    tiles = []\n",
        "    for y in range(gh):\n",
        "        for x in range(gw):\n",
        "            box = (x*image_size, y*image_size, (x+1)*image_size, (y+1)*image_size)\n",
        "            tiles.append(image.crop(box))\n",
        "    return tiles\n",
        "\n",
        "def load_image(path, image_size=448, max_num=12):\n",
        "    img = Image.open(path).convert('RGB')\n",
        "    tiles = dynamic_preprocess(img, image_size=image_size, max_num=max_num)\n",
        "    tfm = build_transform()\n",
        "    return torch.stack([tfm(t) for t in tiles])\n",
        "\n",
        "# ─── Inference ────────────────────────────────────────────────────────────\n",
        "def infer(image_path):\n",
        "    device_map = split_model(MODEL_PATH)\n",
        "    model     = AutoModel.from_pretrained(\n",
        "                    MODEL_PATH,\n",
        "                    torch_dtype=torch.bfloat16,\n",
        "                    low_cpu_mem_usage=True,\n",
        "                    use_flash_attn=True,\n",
        "                    trust_remote_code=True,\n",
        "                    device_map=device_map\n",
        "                ).eval()\n",
        "    tokenizer = AutoTokenizer.from_pretrained(MODEL_PATH, trust_remote_code=True, use_fast=False)\n",
        "\n",
        "    pixel_values = load_image(image_path, max_num=MAX_PATCHES)\n",
        "    pixel_values = pixel_values.to(torch.bfloat16).cuda()\n",
        "\n",
        "    question = f\"<image>\\n{prompt_string}\"\n",
        "    response, _ = model.chat(tokenizer, pixel_values, question, GEN_CONFIG, history=None, return_history=True)\n",
        "\n",
        "    print(\"User:\", question)\n",
        "    print(\"Assistant:\", response)\n",
        "\n",
        "if __name__ == \"__main__\":\n",
        "    infer(\"toy_ds/images/TNS_3773_I.jpg\")"
      ]
    }
  ],
  "metadata": {
    "colab": {
      "provenance": []
    },
    "kernelspec": {
      "display_name": "videoqa",
      "language": "python",
      "name": "python3"
    },
    "language_info": {
      "codemirror_mode": {
        "name": "ipython",
        "version": 3
      },
      "file_extension": ".py",
      "mimetype": "text/x-python",
      "name": "python",
      "nbconvert_exporter": "python",
      "pygments_lexer": "ipython3",
      "version": "3.10.18"
    }
  },
  "nbformat": 4,
  "nbformat_minor": 5
}
